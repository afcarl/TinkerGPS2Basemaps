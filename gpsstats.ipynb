{
 "metadata": {
  "name": ""
 },
 "nbformat": 3,
 "nbformat_minor": 0,
 "worksheets": [
  {
   "cells": [
    {
     "cell_type": "heading",
     "level": 1,
     "metadata": {},
     "source": [
      "Create Statistics"
     ]
    },
    {
     "cell_type": "code",
     "collapsed": false,
     "input": [
      "from matplotlib import pyplot as plt\n",
      "from matplotlib.dates import strpdate2num, DateFormatter\n",
      "import numpy as np\n",
      "import csv\n",
      "import time"
     ],
     "language": "python",
     "metadata": {},
     "outputs": [],
     "prompt_number": 170
    },
    {
     "cell_type": "heading",
     "level": 2,
     "metadata": {},
     "source": [
      "Read the Dump.csv"
     ]
    },
    {
     "cell_type": "code",
     "collapsed": false,
     "input": [
      "t, N, E, PDOP, HDOP, VDOP, EPE = np.loadtxt('gpsdatadump.csv',\n",
      "                delimiter=',', unpack=True, usecols = (1,2,4,6,7,8,9),\n",
      "                converters={1: strpdate2num(' %H%M%S%f')})"
     ],
     "language": "python",
     "metadata": {},
     "outputs": [],
     "prompt_number": 171
    },
    {
     "cell_type": "heading",
     "level": 2,
     "metadata": {},
     "source": [
      "Plot the Estimated Position Error"
     ]
    },
    {
     "cell_type": "code",
     "collapsed": false,
     "input": [
      "fig, ax = plt.subplots(figsize=(16,9))\n",
      "ax.plot_date(t, EPE/100, fmt='g-') # x = array of dates, y = array of numbers        \n",
      "\n",
      "fig.autofmt_xdate()\n",
      "ax.xaxis.set_major_formatter(DateFormatter('%H:%M:%S'))\n",
      "plt.ylabel('Estimated Position Error [Meter]')\n",
      "plt.grid(True)\n",
      "plt.savefig('gpsdumpEPE.png',dpi=72, bbox_inches='tight')\n",
      "plt.show()\n",
      "plt.close()"
     ],
     "language": "python",
     "metadata": {},
     "outputs": [],
     "prompt_number": 173
    },
    {
     "cell_type": "code",
     "collapsed": false,
     "input": [],
     "language": "python",
     "metadata": {},
     "outputs": [],
     "prompt_number": 172
    }
   ],
   "metadata": {}
  }
 ]
}